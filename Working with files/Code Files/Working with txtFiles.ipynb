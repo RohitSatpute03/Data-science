{
 "cells": [
  {
   "cell_type": "markdown",
   "id": "38d90322",
   "metadata": {},
   "source": [
    "# Currunt Working Directory"
   ]
  },
  {
   "cell_type": "code",
   "execution_count": 1,
   "id": "6f0dd886",
   "metadata": {},
   "outputs": [
    {
     "data": {
      "text/plain": [
       "'/Users/rishi/Prepinsta/Working with files'"
      ]
     },
     "execution_count": 1,
     "metadata": {},
     "output_type": "execute_result"
    }
   ],
   "source": [
    "# import library\n",
    "\n",
    "import os\n",
    "os.getcwd()"
   ]
  },
  {
   "cell_type": "markdown",
   "id": "1d2f52ad",
   "metadata": {},
   "source": [
    "# Files"
   ]
  },
  {
   "cell_type": "markdown",
   "id": "bf16b9ca",
   "metadata": {},
   "source": [
    "- `Text files` contain only basic text characters and do not include font, size, or color information.\n",
    "\n",
    "- `Binary files` are all other file types, such as mp4, mp3, word, excel, power point, PDFs, images, and executable programs.\n",
    "\n",
    "\n",
    "The functions covered in the next few sections will apply to plain text files."
   ]
  },
  {
   "cell_type": "markdown",
   "id": "351aa423",
   "metadata": {},
   "source": [
    "# open ( ) funtion"
   ]
  },
  {
   "cell_type": "markdown",
   "id": "ba9f735b",
   "metadata": {},
   "source": [
    "To open a file with the `open()` function, you pass it a string path indicating the path of the file you want to open."
   ]
  },
  {
   "cell_type": "code",
   "execution_count": 2,
   "id": "934657ec",
   "metadata": {},
   "outputs": [],
   "source": [
    "f = open('sample.txt')"
   ]
  },
  {
   "cell_type": "markdown",
   "id": "82b048b9",
   "metadata": {},
   "source": [
    "The above command will open the file in `read mode`. When a file is opened in read mode, Python lets you only read data from the file; you `can’t write or modify it` in any way. `Read mode is the default mode` for files you open in Python."
   ]
  },
  {
   "cell_type": "markdown",
   "id": "cf42ec83",
   "metadata": {},
   "source": [
    "# read ( ) function"
   ]
  },
  {
   "cell_type": "markdown",
   "id": "b054c19e",
   "metadata": {},
   "source": [
    "If you want to read the entire contents of a file as a string value, use the File object’s read() method."
   ]
  },
  {
   "cell_type": "code",
   "execution_count": 3,
   "id": "4cb7fe35",
   "metadata": {
    "scrolled": true
   },
   "outputs": [
    {
     "data": {
      "text/plain": [
       "\"Now is the winter of our discontent\\nMade glorious summer by this sun of York;\\nAnd all the clouds that lour'd upon our house\\nIn the deep bosom of the ocean buried.\\nNow are our brows bound with victorious wreaths;\\nOur bruised arms hung up for monuments;\\nOur stern alarums changed to merry meetings,\\nOur dreadful marches to delightful measures.\\nGrim-visaged war hath smoothed his wrinkled front;\\nAnd now, instead of mounting barded steeds\\nTo fright the souls of fearful adversaries,\\nHe capers nimbly in a lady's chamber\\nTo the lascivious pleasing of a lute.\\nBut I, that am not shaped for sportive tricks,\\nNor made to court an amorous looking-glass;\\nI, that am rudely stamp'd, and want love's majesty\\nTo strut before a wanton ambling nymph;\\nI, that am curtail'd of this fair proportion,\""
      ]
     },
     "execution_count": 3,
     "metadata": {},
     "output_type": "execute_result"
    }
   ],
   "source": [
    "text = f.read()\n",
    "text"
   ]
  },
  {
   "cell_type": "markdown",
   "id": "3cb6c478",
   "metadata": {},
   "source": [
    "# close ( ) function"
   ]
  },
  {
   "cell_type": "markdown",
   "id": "a7a9bf7c",
   "metadata": {},
   "source": [
    "Instead of `read()` you can use the `readlines()` method to get a list of string values from the file, one string for each line of text."
   ]
  },
  {
   "cell_type": "code",
   "execution_count": 4,
   "id": "19c5725f",
   "metadata": {},
   "outputs": [
    {
     "name": "stdout",
     "output_type": "stream",
     "text": [
      "['Now is the winter of our discontent\\n', 'Made glorious summer by this sun of York;\\n', \"And all the clouds that lour'd upon our house\\n\", 'In the deep bosom of the ocean buried.\\n', 'Now are our brows bound with victorious wreaths;\\n', 'Our bruised arms hung up for monuments;\\n', 'Our stern alarums changed to merry meetings,\\n', 'Our dreadful marches to delightful measures.\\n', 'Grim-visaged war hath smoothed his wrinkled front;\\n', 'And now, instead of mounting barded steeds\\n', 'To fright the souls of fearful adversaries,\\n', \"He capers nimbly in a lady's chamber\\n\", 'To the lascivious pleasing of a lute.\\n', 'But I, that am not shaped for sportive tricks,\\n', 'Nor made to court an amorous looking-glass;\\n', \"I, that am rudely stamp'd, and want love's majesty\\n\", 'To strut before a wanton ambling nymph;\\n', \"I, that am curtail'd of this fair proportion,\"]\n"
     ]
    }
   ],
   "source": [
    "f = open('sample.txt')\n",
    "lines = f.readlines()\n",
    "print(lines)\n",
    "f.close()"
   ]
  },
  {
   "cell_type": "code",
   "execution_count": 5,
   "id": "5cd0586c",
   "metadata": {},
   "outputs": [
    {
     "name": "stdout",
     "output_type": "stream",
     "text": [
      "Now is the winter of our discontent\n",
      "Made glorious summer by this sun of York;\n",
      "And all the clouds that lour'd upon our house\n",
      "In the deep bosom of the ocean buried.\n",
      "Now are our brows bound with victorious wreaths;\n",
      "Our bruised arms hung up for monuments;\n",
      "Our stern alarums changed to merry meetings,\n",
      "Our dreadful marches to delightful measures.\n",
      "Grim-visaged war hath smoothed his wrinkled front;\n",
      "And now, instead of mounting barded steeds\n",
      "To fright the souls of fearful adversaries,\n",
      "He capers nimbly in a lady's chamber\n",
      "To the lascivious pleasing of a lute.\n",
      "But I, that am not shaped for sportive tricks,\n",
      "Nor made to court an amorous looking-glass;\n",
      "I, that am rudely stamp'd, and want love's majesty\n",
      "To strut before a wanton ambling nymph;\n",
      "I, that am curtail'd of this fair proportion,\n"
     ]
    }
   ],
   "source": [
    "# alternate method\n",
    "# this method closes the file automatically\n",
    "\n",
    "with open('sample.txt') as reader:\n",
    "    # Read aand print entire file\n",
    "    print(reader.read())"
   ]
  },
  {
   "cell_type": "markdown",
   "id": "cbdcaf59",
   "metadata": {},
   "source": [
    "# write ( ) function"
   ]
  },
  {
   "cell_type": "markdown",
   "id": "5613fee5",
   "metadata": {},
   "source": [
    "You can’t write to a file you’ve opened in `read mode`."
   ]
  },
  {
   "cell_type": "code",
   "execution_count": 6,
   "id": "10760b04",
   "metadata": {},
   "outputs": [],
   "source": [
    "fw = open('sample2.txt', 'w') # write mode\n",
    "fw.write('This is written by python.')\n",
    "fw.close()"
   ]
  },
  {
   "cell_type": "markdown",
   "id": "8eddce8a",
   "metadata": {},
   "source": [
    "Write mode will overwrite the existing file and start from scratch"
   ]
  },
  {
   "cell_type": "code",
   "execution_count": 7,
   "id": "756ea9f0",
   "metadata": {},
   "outputs": [],
   "source": [
    "fw = open('sample2.txt', 'a') # append mode\n",
    "fw.write('This is an appended text')\n",
    "fw.close()"
   ]
  },
  {
   "cell_type": "markdown",
   "id": "98417f5a",
   "metadata": {},
   "source": [
    "Append mode, on the other hand, will append text to the end of the existing file."
   ]
  },
  {
   "cell_type": "code",
   "execution_count": 8,
   "id": "4ee23337",
   "metadata": {},
   "outputs": [
    {
     "data": {
      "text/plain": [
       "'This is written by python.This is an appended text'"
      ]
     },
     "execution_count": 8,
     "metadata": {},
     "output_type": "execute_result"
    }
   ],
   "source": [
    "f = open('sample2.txt') # reading mode\n",
    "text = f.read()\n",
    "f.close()\n",
    "text"
   ]
  },
  {
   "cell_type": "markdown",
   "id": "e4eca270",
   "metadata": {},
   "source": [
    "- `r` - `Read` - Default value. Opens a file for reading, it returns an error if the file does not exist.\n",
    "\n",
    "- `a` - `Append` - Opens a file for appending, creates the file if it does not exist.\n",
    "\n",
    "- `w` - `Write` - Opens a file for writing, creates the file if it does not exist.\n",
    "\n",
    "- `x` - `Create` - Creates the specified file, returns an error if the file exists.\n",
    "\n",
    "- `t` - `Text` - Default value. Text mode\n",
    "\n",
    "- `b` - `Binary` - Binary mode (e.g. images)"
   ]
  },
  {
   "cell_type": "markdown",
   "id": "cbd7fe29",
   "metadata": {},
   "source": [
    "# Deleting Files"
   ]
  },
  {
   "cell_type": "code",
   "execution_count": 9,
   "id": "968864b4",
   "metadata": {},
   "outputs": [],
   "source": [
    "import os\n",
    "os.remove('sample2.txt')"
   ]
  },
  {
   "cell_type": "markdown",
   "id": "38e3efe5",
   "metadata": {},
   "source": [
    "If the file does not exist, the remove method will raise an error, so it is good to use a condition like this:"
   ]
  },
  {
   "cell_type": "code",
   "execution_count": null,
   "id": "424ecb34",
   "metadata": {},
   "outputs": [],
   "source": [
    "import os\n",
    "if os.path.exists('sample2.txt'):\n",
    "    os.remove('sample2.txt')\n",
    "else:\n",
    "    print('The file does not exist')"
   ]
  }
 ],
 "metadata": {
  "kernelspec": {
   "display_name": "Python 3 (ipykernel)",
   "language": "python",
   "name": "python3"
  },
  "language_info": {
   "codemirror_mode": {
    "name": "ipython",
    "version": 3
   },
   "file_extension": ".py",
   "mimetype": "text/x-python",
   "name": "python",
   "nbconvert_exporter": "python",
   "pygments_lexer": "ipython3",
   "version": "3.9.13"
  }
 },
 "nbformat": 4,
 "nbformat_minor": 5
}
