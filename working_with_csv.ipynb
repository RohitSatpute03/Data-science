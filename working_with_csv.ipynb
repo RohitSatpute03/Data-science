{
 "cells": [
  {
   "cell_type": "code",
   "execution_count": 1,
   "metadata": {},
   "outputs": [
    {
     "data": {
      "text/plain": [
       "'/Users/rohitsatpute/Documents/Prepinsta Final/Data science/working with files'"
      ]
     },
     "execution_count": 1,
     "metadata": {},
     "output_type": "execute_result"
    }
   ],
   "source": [
    "pwd"
   ]
  },
  {
   "cell_type": "code",
   "execution_count": 2,
   "metadata": {},
   "outputs": [],
   "source": [
    "import csv"
   ]
  },
  {
   "cell_type": "code",
   "execution_count": 3,
   "metadata": {},
   "outputs": [],
   "source": [
    "data = open('example.csv')"
   ]
  },
  {
   "cell_type": "code",
   "execution_count": 4,
   "metadata": {},
   "outputs": [
    {
     "data": {
      "text/plain": [
       "<_io.TextIOWrapper name='example.csv' mode='r' encoding='utf-8'>"
      ]
     },
     "execution_count": 4,
     "metadata": {},
     "output_type": "execute_result"
    }
   ],
   "source": [
    "data"
   ]
  },
  {
   "cell_type": "code",
   "execution_count": 5,
   "metadata": {},
   "outputs": [],
   "source": [
    "csv_data = csv.reader(data)"
   ]
  },
  {
   "cell_type": "code",
   "execution_count": 6,
   "metadata": {},
   "outputs": [],
   "source": [
    "datalines = list(csv_data)"
   ]
  },
  {
   "cell_type": "code",
   "execution_count": 7,
   "metadata": {},
   "outputs": [
    {
     "data": {
      "text/plain": [
       "[['Sr.no.', 'Text in meme', 'Ctaegory'],\n",
       " ['0551.jpg', \"When the toilet stall door doesn't have a lock\", 'F'],\n",
       " ['0552.jpg', 'Your current profile picture 5 years ago facebook memory', 'A'],\n",
       " ['0553.jpg', 'when your crush sends you \"Happy Friendship Day\" message', 'F'],\n",
       " ['0554.jpg',\n",
       "  'when you are in your 6th year of PhD and still your work seems incomplete',\n",
       "  'C'],\n",
       " ['0555.jpg',\n",
       "  'When you run out of sources for an essay:        I was there, 3000 years ago...',\n",
       "  'C'],\n",
       " ['0556.jpg', 'ALL QUIET ON THE PSG FRONT', 'D'],\n",
       " ['0557.jpg',\n",
       "  'After my awful presentation      me.  The class.  My teacher.   My friends.  ',\n",
       "  'C'],\n",
       " ['0558.jpg', \"Netflix: Are you still there?  Me:I don't know anymore \", 'F'],\n",
       " ['0559.jpg', \"I wonder how many miles I've scrolled with my thumb \", 'F'],\n",
       " ['0560.jpg', 'ChatGPT after having to deal with humans every day', 'A'],\n",
       " ['0561.jpg', '450+50. Delivery.          500+Free. Delivery ', 'F'],\n",
       " ['0562.jpg',\n",
       "  'In a world full of Main... merko sab ata hai... Main expert hu  Be someone who says Ye meri expertise nahi hai',\n",
       "  'A'],\n",
       " ['0563.jpg',\n",
       "  \"I support Arsenal and this is the only cup I'll be getting this year\",\n",
       "  'E'],\n",
       " ['0564.jpg', 'HEROS WHO SAVED SHAH RUKH KHAN IN DIFFICULT TIMES ', 'D'],\n",
       " ['0565.jpg', 'Girls while applying eyeliner: ', 'F'],\n",
       " ['0566.jpg', 'Sometimes you just need a hug', 'F'],\n",
       " ['0567.jpg', 'I am mature now.  Also me* Yellow to yellow', 'F'],\n",
       " ['0568.jpg', 'taught thought thought through throughout thorough tough', 'F'],\n",
       " ['0569.jpg', 'Friend: I Will Drive Today.   Me:', 'A'],\n",
       " ['0570.jpg', 'They pay me to build pipes, not to move rocks ', 'F'],\n",
       " ['0571.jpg',\n",
       "  'Science is everything. I only believe in science.   Final exam result: Physics-34/100 Mathematics-20/100 Chemistry-40/100',\n",
       "  'C'],\n",
       " ['0572.jpg',\n",
       "  \"I don't know what this cow is going through but I can relate \",\n",
       "  'F'],\n",
       " ['0573.jpg', 'School Graduation Post Graduation Job', 'C'],\n",
       " ['0574.jpg', 'My Love    Wrong Person ', 'A'],\n",
       " ['0575.jpg', 'CELEBRITIES AFTER LOSING BLUE TICK ON TWITTER ', 'A'],\n",
       " ['0576.jpg',\n",
       "  'When you have to stop your best friend from getting into a wrong relationship',\n",
       "  'A'],\n",
       " ['0577.jpg',\n",
       "  '\"Be careful with your heart\". Me, carrying my heart around like: ',\n",
       "  'F'],\n",
       " ['0578.jpg',\n",
       "  'When i finally propose to my crush  *le crush \"bhaiyya aap kitna drama krte ho\"',\n",
       "  'F'],\n",
       " ['0579.jpg', 'ANYONE CAN WIN IPL TROPHY BUT     BENGALURU CANT.  ', 'E'],\n",
       " ['0580.jpg',\n",
       "  \"When you're watching something on your laptop and you see your reflection \",\n",
       "  'F'],\n",
       " ['0581.jpg',\n",
       "  'People with good heart are always unlucky in relationship ',\n",
       "  'A'],\n",
       " ['0582.jpg',\n",
       "  '10 YEAR OLD ME CELEBRATING HOLIDAYS WITH MY FAMILY*    20 YEAR OLD ME DEALING WITH LONELINSS AWAY FROM MY HOMETOWN IN HOLIDAYS*',\n",
       "  'A'],\n",
       " ['0583.jpg',\n",
       "  'GILL JOINING ELITE CLUB OF ALL FORMAT CENTURY BY INDIANS INCLUDING IPL    *KOHLI *ROHIT *KL *RAINA *GILL',\n",
       "  'E'],\n",
       " ['0584.jpg',\n",
       "  \"Not my problem...    When everything at work is falling apart but you've already clocked out for the day \",\n",
       "  'F'],\n",
       " ['0585.jpg',\n",
       "  'When your crush rejects you and then her crush rejects her ',\n",
       "  'F'],\n",
       " ['0586.jpg', 'Mumbai has Chor Bazar    London has British Museum ', 'F'],\n",
       " ['0587.jpg', '*My life  *That one happy moment  *My life again', 'F'],\n",
       " ['0588.jpg',\n",
       "  'You were always right mom     Mobile phones, internet, social media  really destroyed my life ',\n",
       "  'A'],\n",
       " ['0589.jpg',\n",
       "  'Correct me if I am wrong   supervisor     *Corrects*    supervisor      supervisor ',\n",
       "  'C'],\n",
       " ['0590.jpg',\n",
       "  'From playing snakes on Nokia 1100 to dealing with snakes everyday, we all grew up! ',\n",
       "  'D'],\n",
       " ['0591.jpg',\n",
       "  'When I realise ChatGPT can do my job    When I realise ChatGPT can do my job ',\n",
       "  'F'],\n",
       " ['0592.jpg',\n",
       "  \"My boyfriend: I can't wait to wake up every morning next to you.  Me when I wake up: \",\n",
       "  'F'],\n",
       " ['0593.jpg',\n",
       "  \"There's nothing wrong with talking to your toys   It's wrong when they start answering you \",\n",
       "  'F'],\n",
       " ['0594.jpg', '', 'F'],\n",
       " ['0595.jpg', '12th class kids in netflix  In Anurag Kashyap films', 'D'],\n",
       " ['0596.jpg',\n",
       "  'Maybe if I work really hard     Go above and beyond     Never use sick days or vacation days     The company will notice and appreciate ',\n",
       "  'F'],\n",
       " ['0597.jpg', \"My friend's answer sheet     My answer sheet \", 'D'],\n",
       " ['0598.jpg',\n",
       "  'Introverts after a Conversation that lasted longer than 5 seconds',\n",
       "  'F'],\n",
       " ['0599.jpg',\n",
       "  'research paper abstract rejected  Submitting the same abstract to another conference ',\n",
       "  'C'],\n",
       " ['0600.jpg', 'Starting a phD  Finishing a PhD', 'C'],\n",
       " ['0601.jpg', 'They really said \"Copy Paste\"  ', 'D'],\n",
       " ['0602.jpg', 'Me in bed at 6 am on a Saturday. My toddler busting in', 'F'],\n",
       " ['0603.jpg', 'When the group trip turns into a solo trip', 'F'],\n",
       " ['0604.jpg', 'No image ', 'F'],\n",
       " ['0605.jpg', 'can you help van persie and spot the ball?', 'E'],\n",
       " ['0606.jpg',\n",
       "  'My psychologist calling his psychologist after having therapy with me',\n",
       "  'F'],\n",
       " ['0607.jpg',\n",
       "  \"When you've already typed something twice and your phone auto corrects it again\",\n",
       "  'F'],\n",
       " ['0608.jpg',\n",
       "  'Me when I catch up to the slow person holding up traffic in the fast lane',\n",
       "  'F'],\n",
       " ['0609.jpg', 'Me telling my problems  My bestfriend ', 'F'],\n",
       " ['0610.jpg', 'Mom: Be careful the food is hot! Me 5 seconds later:', 'F'],\n",
       " ['0611.jpg',\n",
       "  \"When you see a funny meme, then Facebook refreshes, but you fing it again. I thought I'd lost you, boy!\",\n",
       "  'F'],\n",
       " ['0612.jpg', 'Me carrying my Oscar for acting like everything is fine', 'F'],\n",
       " ['0613.jpg',\n",
       "  '5 yrs old me trying to see if the fridge bulb remains on after I close the door',\n",
       "  'F'],\n",
       " ['0614.jpg',\n",
       "  'When its raining on sea   Sea   Clouds   Saale mera hi maal chura kar mujhe bech raha hai',\n",
       "  'F'],\n",
       " ['0615.jpg', 'Beta ek zamana tha jab hum bhi garib hua karte the', 'F'],\n",
       " ['0616.jpg',\n",
       "  'DON\\'T KNOW WHAT HE\\'S GOING THROUGH BUT SAME  Some people will only \"love you\" as much as they can use you. Their loyalty ends where the benefits stop.',\n",
       "  'A'],\n",
       " ['0617.jpg',\n",
       "  'Teacher: Why are you late? Me: Heavy traffic Teacher:Is that my fault? Me: Did I blame you?  The whole class:',\n",
       "  'F'],\n",
       " ['0618.jpg', 'FORWARD ALWAYS  ALWAYS FORWARD.  GOT IT POPS', 'E'],\n",
       " ['0619.jpg', 'Invisible tape: Well played', 'F'],\n",
       " ['0620.jpg',\n",
       "  'me: i have to start eating healthier   me feeling even the slightest amount of stress:',\n",
       "  'F'],\n",
       " ['0621.jpg', 'EVERYBODY WAS         KUNG FU FIGHTING', 'E'],\n",
       " ['0622.jpg',\n",
       "  \"How many papers have you downloaded today?  Eleven!   Were they useful?  I didn't read them!\",\n",
       "  'C'],\n",
       " ['0623.jpg',\n",
       "  \"Post- docs when they have to train the new PhD candidate  I'm going to be honest with you. I hate this place.  This zoo, this prison, this reality, whatever you want to call it. I can't stand it any longer.\",\n",
       "  'C'],\n",
       " ['0624.jpg', 'When developer finds a bug.   When tester finds a bug', 'F'],\n",
       " ['0625.jpg',\n",
       "  \"When the boss is coming and you need to pretend you're doing something\",\n",
       "  'A'],\n",
       " ['0626.jpg',\n",
       "  \"70yrs old Rohit Sharma and Surya Kuma Yadav come to watch     Dhoni's last IPL match\",\n",
       "  'E'],\n",
       " ['0627.jpg', \"when you have to wear your mom's old clothes\", 'D'],\n",
       " ['0628.jpg', 'FA Cup        Other tournaments', 'E'],\n",
       " ['0629.jpg',\n",
       "  'Virat Kohli is no more...  Hainn??  ...the captain of INDIA!',\n",
       "  'E'],\n",
       " ['0630.jpg',\n",
       "  'How they show green tea tastes like.        what it actually tastes like',\n",
       "  'F'],\n",
       " ['0631.jpg',\n",
       "  \"Soul for sale: 21-years-old Dutch scholar puts his 'soul on sale' as an NFT\",\n",
       "  'F'],\n",
       " ['0632.jpg',\n",
       "  'when you\\'re sleeping and you hear your brother telling his girlfriend    \"I can sell this house for you\"',\n",
       "  'F'],\n",
       " ['0633.jpg', 'this bike has more seats than congress', 'B'],\n",
       " ['0634.jpg', 'My nose every night.', 'F'],\n",
       " ['0635.jpg',\n",
       "  'WHEN SOMEONE TALKS TO ME ABOUT MY CRUSH.   Wo mitra to unki hain! Lekin sneh mujhse jyada karti hain',\n",
       "  'F'],\n",
       " ['0636.jpg',\n",
       "  'HARD WORK PAYS.       RAVITATION CANNOT BE IELD RESPONSIBLE FOR.    NOT GETTING UP ON TIME FOR STUDY AND EXAMS',\n",
       "  'C'],\n",
       " ['0637.jpg',\n",
       "  'One month into relatinoship    One year into relationship',\n",
       "  'A'],\n",
       " ['0638.jpg',\n",
       "  '28 DAYS LATER.   EX_MACHINA.       \"A TENSE, THOUGH-PROVOKING THRILLER\"',\n",
       "  'F'],\n",
       " ['0639.jpg',\n",
       "  'IN FOREIGN COUNTRIES- EXCUSE ME GENTLEMAN, THIS IS MY SEAT.   IN INDIA- ',\n",
       "  'A'],\n",
       " ['0640.jpg',\n",
       "  \"When you are sad and your friend checks to make sure you don't do anything stupid\",\n",
       "  'A'],\n",
       " ['0641.jpg',\n",
       "  'I cheated!!! So? What did you expect I love you I was also cheating on you. For the past 2 years  I was talking about exams',\n",
       "  'F'],\n",
       " ['0642.jpg',\n",
       "  \"ME: WAKE ME UP AT 9AM, I HAVE A VERY IMPORTANT THING AT 10AM  MOM AT 6AM: WAKE UP IT'S 9!  Maa Baap ke decisions galat ho sakte hai, unki niyat nahi\",\n",
       "  'F'],\n",
       " ['0643.jpg',\n",
       "  'What a familiar smell...  Must be the lotas losing again...',\n",
       "  'B'],\n",
       " ['0644.jpg',\n",
       "  \"When you don't know the answer but still attempt the question\",\n",
       "  'C'],\n",
       " ['0645.jpg',\n",
       "  'Original Research Paper Published      2nd author. 1st author. 3rd author.     et al.',\n",
       "  'C'],\n",
       " ['0646.jpg',\n",
       "  'Pehle Ladkiyo ko aaise Ladke pasand aate the.   Ab Ladkion aise Ladke pasand aate hai',\n",
       "  'A'],\n",
       " ['0647.jpg',\n",
       "  'Meeting with the bestfriend after long time.   Expectations.         Reality.      ',\n",
       "  'A'],\n",
       " ['0648.jpg', 'When mom combs your hair', 'F'],\n",
       " ['0649.jpg', 'SKY BET CHAMPIONSHIP  EFL.       U E F A EUROPA LEAGUE', 'E'],\n",
       " ['0650.jpg',\n",
       "  'WHO YOU ATTEND THE CLASS EARLY IN THE MORNING.      BUT YOU DONT GET ATTENDANCE.      Mujhe ghar jana hai',\n",
       "  'C'],\n",
       " ['0651.jpg',\n",
       "  \"THAT MOMENT YOU REALIZE             YOU'RE A LOTTERY TEAM\",\n",
       "  'E'],\n",
       " ['0652.jpg', 'WHEN YOU REALIZE LAVAR BALL WAS RIGHT', 'E'],\n",
       " ['0653.jpg', 'LAKERS 2014-15.        TEAM PHOTO', 'E'],\n",
       " ['0654.jpg', 'At the dentist       At a golgappa stall', 'F'],\n",
       " ['0655.jpg', \"YOU'RE NOT YOU WHEN YOU'RE HUNGRY!      SNICKERS\", 'F'],\n",
       " ['0656.jpg', 'What others see.        What Ronaldo sees', 'E'],\n",
       " ['0657.jpg', \"DON'T YELL AT HIM      HE'S JUST A CHILD\", 'E'],\n",
       " ['0658.jpg', 'BUT ITS SO HEAVY.       WITH ALL THAT AIR IN IT', 'E'],\n",
       " ['0659.jpg',\n",
       "  'How I spend my time.      Using Mobile.   Eating.   Sleeping.    Sad',\n",
       "  'F'],\n",
       " ['0660.jpg',\n",
       "  \"If you throw a stone in Banglore, it'll either hit a pothole or a Startup Founder.  \",\n",
       "  'A'],\n",
       " ['0661.jpg',\n",
       "  'When I get few reacts on my memes but group is large.           Sale kaise kaise log rahte hai yahan ',\n",
       "  'A'],\n",
       " ['0662.jpg', 'This post injured Neymar', 'E'],\n",
       " ['0663.jpg',\n",
       "  \"WHAT'S WRONG SON?    ARSENAL IS NOT IN THE UCL.     When you beat up on Arsenal anymore.\",\n",
       "  'E'],\n",
       " ['0664.jpg',\n",
       "  'Types of Headaches.   Migraine. Hypertension. Stress. Getting the bow in arsenal',\n",
       "  'E'],\n",
       " ['0665.jpg',\n",
       "  'When unknown person give haha react on my post.   Me: We are friends now.',\n",
       "  'A'],\n",
       " ['0666.jpg', 'WANYNE, WANNA HEAR A JOKE?    ARSENAL', 'E'],\n",
       " ['0667.jpg', '#Arsenal #MCIARS this meme is becoming reality', 'E'],\n",
       " ['0668.jpg',\n",
       "  \"IT'S SO EASY TO SCORE AGAINST ARSENAL      THAT EVEN MORATA DID\",\n",
       "  'E'],\n",
       " ['0669.jpg', 'ARSENAL FANS YESTERDAY', 'E'],\n",
       " ['0670.jpg',\n",
       "  \"WHY CAN'T ARSENAL OPEN UP A RESTAURANT?   BECAUSE THEY HAVE NO SILVERWARE\",\n",
       "  'E'],\n",
       " ['0671.jpg',\n",
       "  \"Giroud scores against Arsenal in the UEL final.      I'M NOT HURT\",\n",
       "  'E'],\n",
       " ['0672.jpg',\n",
       "  'Noone:  3rd year students before fest:       Paisa kidhar hai?',\n",
       "  'C'],\n",
       " ['0673.jpg',\n",
       "  'GETS FIRED AS WEST BROM MANAGER     MAKES IT TO UEFA CL FINAL',\n",
       "  'E'],\n",
       " ['0674.jpg', \"IT'S OVER             IT'S FINALLY OVER\", 'E'],\n",
       " ['0675.jpg',\n",
       "  'SO IF THE NEXT PRSIDENT IS WHITE.     THE UNITED STATES WILL HAVE SUCCESSFULLY \"GONE BLACK\" AND THEN GONE BACK',\n",
       "  'B'],\n",
       " ['0676.jpg', 'FEELINGS   STATISTICS.       ', 'C'],\n",
       " ['0677.jpg',\n",
       "  'Me after spending 5min on Tiktok.     Translate Tweet       kaise kaise log rhte hain yahan',\n",
       "  'A'],\n",
       " ['0678.jpg',\n",
       "  'The Face you make when pados wali aunty says her son has got 99.999999% in boards',\n",
       "  'C'],\n",
       " ['0679.jpg',\n",
       "  'CAT ki seat thi isliye jaane dia.       IIT ki hoti to top krta',\n",
       "  'C'],\n",
       " ['0680.jpg',\n",
       "  'So you never taught a class?    And they put you in charge?',\n",
       "  'C'],\n",
       " ['0681.jpg', 'CLOSE ENOUGH', 'F'],\n",
       " ['0682.jpg',\n",
       "  \"THAT FEELING WHEN YOU REALIZE THAT.   YOU'RE IN OVER YOUR HEAD\",\n",
       "  'F'],\n",
       " ['0683.jpg',\n",
       "  '*Curreny counting machine was invented in 1958:     People before 1957:',\n",
       "  'D'],\n",
       " ['0684.jpg',\n",
       "  \"ME: IS SHE SINGLE?   FRIEND: GO ASK HER OF SHE'S SINGLE  ME:    Ab syllabus ka sawaal thodi hai jo puchunga\",\n",
       "  'F'],\n",
       " ['0685.jpg',\n",
       "  'BLAMES INDIAN EDUCATION SYSTEM FOR NOT TEACHING COMPUTER SCIENCE IN FIRST YEAR.   WANTS TO BECOME A BANK MANAGER AFTER GRADUATION',\n",
       "  'C'],\n",
       " ['0686.jpg',\n",
       "  '2006.      2013.       FINALLY LEARNED TO WEAR UNDERWARE INSIDE',\n",
       "  'D'],\n",
       " ['0687.jpg',\n",
       "  'Thanos Bhai Bolo Zubaan Kesari.         Zubaan Kesari Ajay Bhai',\n",
       "  'D'],\n",
       " ['0688.jpg',\n",
       "  'IN SPIDERMAN HOMECOMING MOVIE     Intha suit ah potukuttu paithiyakarathanama ethuvum pannitu irukaatha.   Yeppov Inga paaru kappal rendaa polakuthu',\n",
       "  'D'],\n",
       " ['0689.jpg',\n",
       "  \"NO TIME TO DIE.     AIN'T NOBODY GOT TIME TO WATCH THAT SHIT\",\n",
       "  'D'],\n",
       " ['0690.jpg',\n",
       "  'NOW ARWEN AND I CAN FINALLY GET MARRIED. FRODA. WILL YOU BE THE...   ...RINGBEARER?',\n",
       "  'D'],\n",
       " ['0691.jpg',\n",
       "  'GOD OF THUNDER   DEFEATED BY SOME ELECTRICITY.   Marvel Logic',\n",
       "  'D'],\n",
       " ['0692.jpg', 'ASKED A GIRL OUT     ENT EVENING FIXING HER', 'F'],\n",
       " ['0693.jpg',\n",
       "  \"PEOPLE NEED TO STOP ARGUING ABOUT WHO'S BETTER BECAUSE...      WE COULD ALWAYS GO BACK TO THIS\",\n",
       "  'D'],\n",
       " ['0694.jpg',\n",
       "  'hollywood guns in a nutshell:  i got 54 more rounds in this 4 rounds magazine',\n",
       "  'D'],\n",
       " ['0695.jpg',\n",
       "  \"When you realize you're getting older.    But then remeber that18 years olds are always 18\",\n",
       "  'A'],\n",
       " ['0696.jpg',\n",
       "  'O LAL DUPATTE WALI TERA NAAM TO BATA..    BOHOT MARUNGA SAALON..',\n",
       "  'D'],\n",
       " ['0697.jpg',\n",
       "  'Survived 3 years with a dog.   Died one day after meeting a woman',\n",
       "  'A'],\n",
       " ['0698.jpg',\n",
       "  'Everyone excited about Ed Sheeran    Nobody realised I was there too',\n",
       "  'D'],\n",
       " ['0699.jpg',\n",
       "  '8PM.   One beer?      8PM     Alright, one beer.      4AM',\n",
       "  'F'],\n",
       " ['0700.jpg',\n",
       "  \"Do you have any hobbies?    Eating and complaining that I'm fat \",\n",
       "  'F'],\n",
       " ['0701.jpg',\n",
       "  'Me, in the beginning January.       Me, by end of February',\n",
       "  'F'],\n",
       " ['0702.jpg',\n",
       "  'the end slices of bread watching me walk in the door with a new loaf',\n",
       "  'F'],\n",
       " ['0703.jpg',\n",
       "  \"My attitude in exams.     They give me questions I don't know, I give them answers they don't know. \",\n",
       "  'C'],\n",
       " ['0704.jpg', 'What others see.        What Robben sees', 'E'],\n",
       " ['0705.jpg', 'glitches in video games be like', 'F'],\n",
       " ['0706.jpg', 'Most beautiful actress     Random girl in temple', 'D'],\n",
       " ['0707.jpg',\n",
       "  \"It's either i win the argument or we're gonna argue the whole day\",\n",
       "  'A'],\n",
       " ['0708.jpg', 'Me randomly unfollowing people because of my mood swings', 'A'],\n",
       " ['0709.jpg', 'This subway station in Korea is savage', 'A'],\n",
       " ['0710.jpg',\n",
       "  'when you find a perfect article but only the abstract is available      All right, then. Keep your secrets. ',\n",
       "  'C'],\n",
       " ['0711.jpg',\n",
       "  '*Tom cruise was born in 1962*   Missions before 1962:     Possible.',\n",
       "  'D'],\n",
       " ['0712.jpg',\n",
       "  \"When people tell me I'm missing out on the joy of having kids \",\n",
       "  'A'],\n",
       " ['0713.jpg',\n",
       "  'LinkedIn: Someone Viewed Your Profile.   Me: Who?  LinkedIn:',\n",
       "  'A'],\n",
       " ['0714.jpg',\n",
       "  'WHEN YOU LOSE    THREE MAJOR AWARDS.      TO THE SAME PLAYER!',\n",
       "  'E'],\n",
       " ['0715.jpg', 'Mai expert hu. Mujhe sab aata hai', 'F'],\n",
       " ['0716.jpg', 'KOI SIKHE INSE, SIKHE', 'F'],\n",
       " ['0717.jpg', 'When your best friend is doing a presentation in class ', 'F'],\n",
       " ['0718.jpg',\n",
       "  'The retirement age needs to be lowered to 29 as I already had enough',\n",
       "  'F'],\n",
       " ['0719.jpg',\n",
       "  'When a boy update his profile picture      When a girl update her profile picture ',\n",
       "  'A'],\n",
       " ['0720.jpg', 'We all have that friend \"Let\\'s walk, it\\'s not far!\" ', 'A'],\n",
       " ['0721.jpg',\n",
       "  'Quantitative researchers looking at qualitative research ',\n",
       "  'C'],\n",
       " ['0722.jpg', 'GOING TO WORK     GOING TO TRAVEL ', 'F'],\n",
       " ['0723.jpg', \"Do whatever the hell you want.. Just don't hurt people. \", 'F'],\n",
       " ['0724.jpg',\n",
       "  'CAPITALISM.          COMMUNISM   WHO HAS HELPED SOCIETY MORE?',\n",
       "  'B'],\n",
       " ['0725.jpg',\n",
       "  'To people who reply late.        If I wanted a reply after 2 days then I would have sent the message via a pigeon',\n",
       "  'F'],\n",
       " ['0726.jpg', 'The situation failed you, but you are not a failure. ', 'F'],\n",
       " ['0727.jpg',\n",
       "  'It is in the dark when you realize, how important your soul is...!!!',\n",
       "  'F'],\n",
       " ['0728.jpg',\n",
       "  '\"I didn\\'t plagiarized anything!\"   \"Don\\'t... Lie... To me.\"',\n",
       "  'C'],\n",
       " ['0729.jpg',\n",
       "  'always work on two projects at once. that way you can procrastinate on project A by messing around on project B, and when you get tired of project B you can waste time by working on project A.',\n",
       "  'C'],\n",
       " ['0730.jpg', 'A smile confuses an approaching frown. ', 'F'],\n",
       " ['0731.jpg', 'Nothing makes me more productive than the last minute. ', 'F'],\n",
       " ['0732.jpg',\n",
       "  \"When you finally finish the PhD    Fortunately the bad days are over.   Now it's time for even worse days\",\n",
       "  'C'],\n",
       " ['0733.jpg',\n",
       "  'Me gathering my few remaining neurons to try finish the manuscript       Thanks for coming',\n",
       "  'C'],\n",
       " ['0734.jpg',\n",
       "  'Einstein\\'s girlfriend walked up to him and exclaimed, \"I need two things from you, time and space!\"  He looked at her inquiringly and asked, \"What\\'s the second thing?\"',\n",
       "  'F'],\n",
       " ['0735.jpg',\n",
       "  'Advisor: \"Would you like to show me your new year\\'s plan?\"  Me:\"You surely remember it from last year\"  ',\n",
       "  'F'],\n",
       " ['0736.jpg', 'no image ', 'F'],\n",
       " ['0737.jpg', 'Meanwhile, in an Alternate Universe...', 'F'],\n",
       " ['0738.jpg',\n",
       "  'put the most important information at the end of the sentence! consider.   I confessed my love for him at the end of the semester   not bad, right? but it could be ',\n",
       "  'F'],\n",
       " ['0739.jpg', '8 hours playing video games      1 hour online class ', 'C'],\n",
       " ['0740.jpg', 'School.      College.      My crush.      Me', 'A'],\n",
       " ['0741.jpg',\n",
       "  'Finally clicking the submit button after writing a bullet proof response to reviewers.    Signature look of superiority ',\n",
       "  'C'],\n",
       " ['0742.jpg',\n",
       "  'hey.  hello.  who are you?  i am fine.  did i ask?  fine is my name',\n",
       "  'F'],\n",
       " ['0743.jpg', 'Just another day of analysis      R Warnings  Me  shut', 'C'],\n",
       " ['0744.jpg',\n",
       "  'You find an interesting article    The introduction is good    It keeps getting better.    \"Sign up to continue\"',\n",
       "  'C'],\n",
       " ['0745.jpg',\n",
       "  \"When you're trying to grab a bite but the wedding photographer won't leave you alone\",\n",
       "  'F'],\n",
       " ['0746.jpg', '\"The manuscript has been accpeted in its present form\" ', 'C'],\n",
       " ['0747.jpg', 'My research topic     Me     Normal conversation ', 'C'],\n",
       " ['0748.jpg', 'communisim ', 'B'],\n",
       " ['0749.jpg', 'communisim ', 'B'],\n",
       " ['0750.jpg',\n",
       "  'Sometimes you just need to see a picture of an otter showing you her new baby. ',\n",
       "  'F'],\n",
       " ['0751.jpg',\n",
       "  'What do you do when u feel streesed? I go to the temple..  Good.. & you do meditation there?  No.. I mix-up all shoes kept outside and watch people more stressed than me.. and my stress goes away',\n",
       "  'F'],\n",
       " ['0752.jpg',\n",
       "  'When you get failed in exam.  When you find out that your Friend failed too.',\n",
       "  'C'],\n",
       " ['0753.jpg',\n",
       "  'My crush uploads her pic with caption \"Sun kissed\"  Me: Stop kissing my crush or you\\'ll die',\n",
       "  'A'],\n",
       " ['0754.jpg', 'Thanos used tiktok', 'D'],\n",
       " ['0755.jpg', 'No text', 'F'],\n",
       " ['0756.jpg',\n",
       "  'Co-authors  we happy?  Me, first and corresponding author   Your ms was accepted in its current form.  Yeah, we happy.',\n",
       "  'C'],\n",
       " ['0757.jpg',\n",
       "  \"Me: *downloading papers from scihub*.  police: wouldn't that make you.     A CRIMINAL?!\",\n",
       "  'C'],\n",
       " ['0758.jpg',\n",
       "  'Writers adding a comma.          Removing it the next day',\n",
       "  'C'],\n",
       " ['0759.jpg',\n",
       "  'A foolish man shares his problems. a wise man shares his memes',\n",
       "  'F'],\n",
       " ['0760.jpg',\n",
       "  'Reviewer     Article rejected.     Good manucript.      Journal.      #ILOVEPHD',\n",
       "  'C'],\n",
       " ['0761.jpg', 'Me when my phone is on charging ', 'F'],\n",
       " ['0762.jpg', 'Me on the first working day after a long weekend', 'F'],\n",
       " ['0763.jpg', 'Drugs.      Alcohol.    Private job', 'A'],\n",
       " ['0764.jpg', 'CTC      IN HAND', 'A'],\n",
       " ['0765.jpg', 'How close I get to qutting my job every day. ', 'F'],\n",
       " ['0766.jpg', 'Wrong.     Right.    Me working from home: ', 'F'],\n",
       " ['0767.jpg',\n",
       "  'When manager asks you to attend 7am client call after you worked till 2am last night',\n",
       "  'F'],\n",
       " ['0768.jpg', 'When I force bae to apply a sheet mask with me ', 'A'],\n",
       " ['0769.jpg',\n",
       "  'When you really need to understand something and you finally find a paper with a clear explanation.      You truly are the king of kings',\n",
       "  'C'],\n",
       " ['0770.jpg',\n",
       "  'When you and your homie arguing about something and the google search confirms your intellectual dominance. ',\n",
       "  'A'],\n",
       " ['0771.jpg', \"Reviewer's comments.       My edits\", 'C'],\n",
       " ['0772.jpg',\n",
       "  'Things that disappear when you need them the most       Your PhD advisor ',\n",
       "  'C'],\n",
       " ['0773.jpg',\n",
       "  'Open Access journal: \"Our fee is 2000$\".        Me: \"I have 3$\"',\n",
       "  'C'],\n",
       " ['0774.jpg',\n",
       "  'Scholars.   Normal people.     Society.         Obsessing over strange stuff',\n",
       "  'C'],\n",
       " ['0775.jpg',\n",
       "  '*Random reviewer\\'s comment*.     Me:\"What? Wanna fight?\"',\n",
       "  'C']]"
      ]
     },
     "execution_count": 7,
     "metadata": {},
     "output_type": "execute_result"
    }
   ],
   "source": [
    "datalines"
   ]
  },
  {
   "cell_type": "code",
   "execution_count": 8,
   "metadata": {},
   "outputs": [],
   "source": [
    "#reading with utf-8\n",
    "\n",
    "data = open('example.csv',encoding='utf-8')\n",
    "csv_data = csv.reader(data)\n",
    "datalines = list(csv_data)"
   ]
  },
  {
   "cell_type": "code",
   "execution_count": 9,
   "metadata": {},
   "outputs": [
    {
     "data": {
      "text/plain": [
       "[['Sr.no.', 'Text in meme', 'Ctaegory'],\n",
       " ['0551.jpg', \"When the toilet stall door doesn't have a lock\", 'F'],\n",
       " ['0552.jpg', 'Your current profile picture 5 years ago facebook memory', 'A']]"
      ]
     },
     "execution_count": 9,
     "metadata": {},
     "output_type": "execute_result"
    }
   ],
   "source": [
    "datalines[:3]"
   ]
  },
  {
   "cell_type": "code",
   "execution_count": 10,
   "metadata": {},
   "outputs": [
    {
     "name": "stdout",
     "output_type": "stream",
     "text": [
      "['Sr.no.', 'Text in meme', 'Ctaegory']\n",
      "['0551.jpg', \"When the toilet stall door doesn't have a lock\", 'F']\n",
      "['0552.jpg', 'Your current profile picture 5 years ago facebook memory', 'A']\n",
      "['0553.jpg', 'when your crush sends you \"Happy Friendship Day\" message', 'F']\n",
      "['0554.jpg', 'when you are in your 6th year of PhD and still your work seems incomplete', 'C']\n"
     ]
    }
   ],
   "source": [
    "for lines in datalines[:5]:\n",
    "    print(lines)"
   ]
  },
  {
   "cell_type": "code",
   "execution_count": 11,
   "metadata": {},
   "outputs": [
    {
     "data": {
      "text/plain": [
       "226"
      ]
     },
     "execution_count": 11,
     "metadata": {},
     "output_type": "execute_result"
    }
   ],
   "source": [
    "len(datalines)"
   ]
  },
  {
   "cell_type": "code",
   "execution_count": 14,
   "metadata": {},
   "outputs": [],
   "source": [
    "# reading only all text\n",
    "\n",
    "all_text = []\n",
    "for lines in datalines[1:13]:\n",
    "    all_text.append(lines[1])"
   ]
  },
  {
   "cell_type": "code",
   "execution_count": 15,
   "metadata": {},
   "outputs": [
    {
     "name": "stdout",
     "output_type": "stream",
     "text": [
      "[\"When the toilet stall door doesn't have a lock\", 'Your current profile picture 5 years ago facebook memory', 'when your crush sends you \"Happy Friendship Day\" message', 'when you are in your 6th year of PhD and still your work seems incomplete', 'When you run out of sources for an essay:        I was there, 3000 years ago...', 'ALL QUIET ON THE PSG FRONT', 'After my awful presentation      me.  The class.  My teacher.   My friends.  ', \"Netflix: Are you still there?  Me:I don't know anymore \", \"I wonder how many miles I've scrolled with my thumb \", 'ChatGPT after having to deal with humans every day', '450+50. Delivery.          500+Free. Delivery ', 'In a world full of Main... merko sab ata hai... Main expert hu  Be someone who says Ye meri expertise nahi hai']\n"
     ]
    }
   ],
   "source": [
    "print(all_text)"
   ]
  },
  {
   "cell_type": "markdown",
   "metadata": {},
   "source": [
    "#Writing to csv files"
   ]
  },
  {
   "cell_type": "markdown",
   "metadata": {},
   "source": [
    "new files\n"
   ]
  },
  {
   "cell_type": "code",
   "execution_count": 16,
   "metadata": {},
   "outputs": [],
   "source": [
    "file_to_output = open('save.csv', 'w', newline='')"
   ]
  },
  {
   "cell_type": "code",
   "execution_count": 17,
   "metadata": {},
   "outputs": [],
   "source": [
    "csv_writer = csv.writer(file_to_output, delimiter=',')\n"
   ]
  },
  {
   "cell_type": "code",
   "execution_count": 18,
   "metadata": {},
   "outputs": [
    {
     "data": {
      "text/plain": [
       "7"
      ]
     },
     "execution_count": 18,
     "metadata": {},
     "output_type": "execute_result"
    }
   ],
   "source": [
    "csv_writer.writerow(['a', 'b', 'c'])"
   ]
  },
  {
   "cell_type": "code",
   "execution_count": 20,
   "metadata": {},
   "outputs": [],
   "source": [
    "csv_writer.writerows([['1', '2', '3'],['4', '5','6']])"
   ]
  },
  {
   "cell_type": "code",
   "execution_count": 21,
   "metadata": {},
   "outputs": [],
   "source": [
    "file_to_output.close()"
   ]
  },
  {
   "cell_type": "markdown",
   "metadata": {},
   "source": [
    "existing files"
   ]
  },
  {
   "cell_type": "code",
   "execution_count": 23,
   "metadata": {},
   "outputs": [],
   "source": [
    "f = open('save.csv', 'a', newline='')\n"
   ]
  },
  {
   "cell_type": "code",
   "execution_count": 24,
   "metadata": {},
   "outputs": [],
   "source": [
    "csv_writer = csv.writer(f)"
   ]
  },
  {
   "cell_type": "code",
   "execution_count": 26,
   "metadata": {},
   "outputs": [
    {
     "data": {
      "text/plain": [
       "13"
      ]
     },
     "execution_count": 26,
     "metadata": {},
     "output_type": "execute_result"
    }
   ],
   "source": [
    "csv_writer.writerow(['new', 'new', 'new'])"
   ]
  },
  {
   "cell_type": "code",
   "execution_count": 27,
   "metadata": {},
   "outputs": [],
   "source": [
    "f.close()"
   ]
  }
 ],
 "metadata": {
  "kernelspec": {
   "display_name": "Python 3",
   "language": "python",
   "name": "python3"
  },
  "language_info": {
   "codemirror_mode": {
    "name": "ipython",
    "version": 3
   },
   "file_extension": ".py",
   "mimetype": "text/x-python",
   "name": "python",
   "nbconvert_exporter": "python",
   "pygments_lexer": "ipython3",
   "version": "3.11.4"
  }
 },
 "nbformat": 4,
 "nbformat_minor": 2
}
