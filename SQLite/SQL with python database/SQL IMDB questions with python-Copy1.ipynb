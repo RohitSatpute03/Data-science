{
 "cells": [
  {
   "cell_type": "markdown",
   "metadata": {},
   "source": [
    "## How to Run sqlite commands using python"
   ]
  },
  {
   "cell_type": "markdown",
   "metadata": {},
   "source": [
    "Steps to work with sqlite3 in python :\n",
    "1. Import Module :\n",
    "    \n",
    "    `import sqlite3`\n",
    "    \n",
    "    \n",
    "2. Create connection with database : \n",
    "    \n",
    "    `connection=sqlite3.connect('database_name')`\n",
    "    \n",
    "    \n",
    "3. check connection status :\n",
    "\n",
    "    `print(connection.total_changes)`\n",
    "    \n",
    "    \n",
    "4. Create cursor object :\n",
    "\n",
    "    `c=connection.cursor()`\n",
    "    \n",
    "    To execute commands `c.execute()` and `c.fetchall()`.\n",
    "\n",
    "    "
   ]
  },
  {
   "cell_type": "markdown",
   "metadata": {},
   "source": [
    "## Import Library & Create database connection"
   ]
  },
  {
   "cell_type": "code",
   "execution_count": 1,
   "metadata": {
    "scrolled": true
   },
   "outputs": [
    {
     "name": "stdout",
     "output_type": "stream",
     "text": [
      "Opened database successfully\n"
     ]
    }
   ],
   "source": [
    "import sqlite3\n",
    "conn = sqlite3.connect('Db-IMDB.db')\n",
    "cursor = conn.cursor()\n",
    "print(\"Opened database successfully\")"
   ]
  },
  {
   "cell_type": "code",
   "execution_count": 2,
   "metadata": {},
   "outputs": [
    {
     "name": "stdout",
     "output_type": "stream",
     "text": [
      "0\n"
     ]
    }
   ],
   "source": [
    "print(conn.total_changes)"
   ]
  },
  {
   "cell_type": "markdown",
   "metadata": {},
   "source": [
    "## Read Tables from the databse"
   ]
  },
  {
   "cell_type": "code",
   "execution_count": 3,
   "metadata": {},
   "outputs": [],
   "source": [
    "# Read tables and columns\n",
    "tableList = []\n",
    "for table in cursor.execute(\"select name from sqlite_master where type = 'table';\"):\n",
    "    tableList.append(table[0])"
   ]
  },
  {
   "cell_type": "code",
   "execution_count": 4,
   "metadata": {},
   "outputs": [
    {
     "data": {
      "text/plain": [
       "['Movie',\n",
       " 'Genre',\n",
       " 'Language',\n",
       " 'Country',\n",
       " 'Location',\n",
       " 'M_Location',\n",
       " 'M_Country',\n",
       " 'M_Language',\n",
       " 'M_Genre',\n",
       " 'Person',\n",
       " 'M_Producer',\n",
       " 'M_Director',\n",
       " 'M_Cast']"
      ]
     },
     "execution_count": 4,
     "metadata": {},
     "output_type": "execute_result"
    }
   ],
   "source": [
    "tableList"
   ]
  },
  {
   "cell_type": "markdown",
   "metadata": {},
   "source": [
    "### Table info"
   ]
  },
  {
   "cell_type": "code",
   "execution_count": 6,
   "metadata": {
    "scrolled": true
   },
   "outputs": [
    {
     "name": "stdout",
     "output_type": "stream",
     "text": [
      "(0, 'index', 'INTEGER', 0, None, 0)\n",
      "(1, 'PID', 'TEXT', 0, None, 0)\n",
      "(2, 'Name', 'TEXT', 0, None, 0)\n",
      "(3, 'Gender', 'TEXT', 0, None, 0)\n"
     ]
    }
   ],
   "source": [
    "for columns in cursor.execute(\"PRAGMA table_info(Person);\"):\n",
    "        print(columns)"
   ]
  },
  {
   "cell_type": "markdown",
   "metadata": {},
   "source": [
    "## Select Query"
   ]
  },
  {
   "cell_type": "code",
   "execution_count": 7,
   "metadata": {},
   "outputs": [
    {
     "data": {
      "text/plain": [
       "<sqlite3.Cursor at 0x1057386c0>"
      ]
     },
     "execution_count": 7,
     "metadata": {},
     "output_type": "execute_result"
    }
   ],
   "source": [
    "cursor.execute(\"SELECT * FROM MOVIE LIMIT 10;\")"
   ]
  },
  {
   "cell_type": "code",
   "execution_count": 8,
   "metadata": {},
   "outputs": [
    {
     "name": "stdout",
     "output_type": "stream",
     "text": [
      "(0, 'tt2388771', 'Mowgli', '2018', 6.6, 21967)\n",
      "(1, 'tt5164214', \"Ocean's Eight\", '2018', 6.2, 110861)\n",
      "(2, 'tt1365519', 'Tomb Raider', '2018', 6.4, 142585)\n",
      "(3, 'tt0848228', 'The Avengers', '2012', 8.1, 1137529)\n",
      "(4, 'tt8239946', 'Tumbbad', '2018', 8.5, 7483)\n",
      "(5, 'tt7027278', 'Kedarnath', '2018', 5.5, 1970)\n",
      "(6, 'tt3498820', 'Captain America: Civil War', '2016', 7.8, 536641)\n",
      "(7, 'tt8108198', 'Andhadhun', '2018', 9.0, 18160)\n",
      "(8, 'tt3741834', 'Lion', '2016', 8.1, 170216)\n",
      "(9, 'tt6747420', 'Rajma Chawal', '2018', 5.7, 681)\n"
     ]
    }
   ],
   "source": [
    "for row in cursor.execute(\"SELECT * FROM MOVIE LIMIT 10;\"):\n",
    "    print(row)"
   ]
  },
  {
   "cell_type": "code",
   "execution_count": 9,
   "metadata": {
    "scrolled": false
   },
   "outputs": [
    {
     "name": "stdout",
     "output_type": "stream",
     "text": [
      "(0, 'nm0000288', ' Christian Bale', 'Male')\n",
      "(1, 'nm0000949', ' Cate Blanchett', 'Female')\n",
      "(2, 'nm1212722', ' Benedict Cumberbatch', 'Male')\n",
      "(3, 'nm0365140', ' Naomie Harris', 'Female')\n",
      "(4, 'nm0785227', ' Andy Serkis', 'Male')\n",
      "(5, 'nm0611932', ' Peter Mullan', 'Male')\n",
      "(6, 'nm2930503', ' Jack Reynor', 'Male')\n",
      "(7, 'nm0550371', ' Eddie Marsan', 'Male')\n",
      "(8, 'nm0390903', ' Tom Hollander', 'Male')\n",
      "(9, 'nm0722629', ' Matthew Rhys', 'Male')\n"
     ]
    }
   ],
   "source": [
    "for row in cursor.execute(\"SELECT * FROM Person LIMIT 10;\"):\n",
    "    print(row)"
   ]
  },
  {
   "cell_type": "code",
   "execution_count": 10,
   "metadata": {},
   "outputs": [
    {
     "data": {
      "text/plain": [
       "[(0, 'tt2388771', 'Mowgli', '2018', 6.6, 21967),\n",
       " (1, 'tt5164214', \"Ocean's Eight\", '2018', 6.2, 110861),\n",
       " (2, 'tt1365519', 'Tomb Raider', '2018', 6.4, 142585),\n",
       " (3, 'tt0848228', 'The Avengers', '2012', 8.1, 1137529),\n",
       " (4, 'tt8239946', 'Tumbbad', '2018', 8.5, 7483),\n",
       " (5, 'tt7027278', 'Kedarnath', '2018', 5.5, 1970),\n",
       " (6, 'tt3498820', 'Captain America: Civil War', '2016', 7.8, 536641),\n",
       " (7, 'tt8108198', 'Andhadhun', '2018', 9.0, 18160),\n",
       " (8, 'tt3741834', 'Lion', '2016', 8.1, 170216),\n",
       " (9, 'tt6747420', 'Rajma Chawal', '2018', 5.7, 681)]"
      ]
     },
     "execution_count": 10,
     "metadata": {},
     "output_type": "execute_result"
    }
   ],
   "source": [
    "list(cursor.execute(\"SELECT * FROM MOVIE LIMIT 10;\"))"
   ]
  },
  {
   "cell_type": "markdown",
   "metadata": {},
   "source": [
    "## Question 1 :\n",
    "\n",
    "List the names of all the `actors` who played in the movie **Anand (1971)**"
   ]
  },
  {
   "cell_type": "code",
   "execution_count": 11,
   "metadata": {},
   "outputs": [
    {
     "name": "stdout",
     "output_type": "stream",
     "text": [
      "('Amitabh Bachchan',)\n",
      "('Rajesh Khanna',)\n",
      "('Sumita Sanyal',)\n",
      "('Ramesh Deo',)\n",
      "('Seema Deo',)\n",
      "('Asit Kumar Sen',)\n",
      "('Dev Kishan',)\n",
      "('Atam Prakash',)\n",
      "('Lalita Kumari',)\n",
      "('Savita',)\n",
      "('Brahm Bhardwaj',)\n",
      "('Gurnam Singh',)\n",
      "('Lalita Pawar',)\n",
      "('Durga Khote',)\n",
      "('Dara Singh',)\n",
      "('Johnny Walker',)\n",
      "('Moolchand',)\n"
     ]
    }
   ],
   "source": [
    "sql_query2 = \"\"\"\n",
    "SELECT DISTINCT TRIM(Name) FROM Person WHERE PID IN (\n",
    "SELECT DISTINCT TRIM(PID) FROM M_Cast WHERE MID = (\n",
    "SELECT TRIM(MID) FROM Movie M WHERE TRIM(M.title) = 'Anand')) ;\n",
    "\"\"\"\n",
    "for row in cursor.execute(sql_query2):\n",
    "    print(row)"
   ]
  },
  {
   "cell_type": "markdown",
   "metadata": {
    "heading_collapsed": true
   },
   "source": [
    "## Question 2 :\n",
    "\n",
    "List all the directors who directed a 'Comedy' movie in a leap year. (You need to check that the genre is 'Comedy’ and year is a leap year) Your query should return `director name`, the `movie name`, and the `year`."
   ]
  },
  {
   "cell_type": "code",
   "execution_count": null,
   "metadata": {
    "hidden": true
   },
   "outputs": [],
   "source": [
    "sql_query1 = \"\"\"\n",
    "SELECT DISTINCT TRIM(Name),TRIM(title),TRIM(year) \n",
    "FROM Movie M JOIN M_Director D ON M.MID = D.MID \n",
    "JOIN Person P ON P.PID = D.PID\n",
    "JOIN (SELECT MID,GID FROM M_Genre \n",
    "WHERE GID IN (SELECT GID FROM Genre WHERE Name LIKE '%Comedy%')) AS G ON G.MID = M.MID\n",
    "WHERE (CAST(year AS int) % 400) OR (CAST(year AS int) % 4 AND NOT CAST(year AS int) % 100) ;\n",
    "\"\"\"\n",
    "\n",
    "\n",
    "for row in cursor.execute(sql_query1):\n",
    "    print(row)"
   ]
  },
  {
   "cell_type": "markdown",
   "metadata": {
    "hidden": true
   },
   "source": [
    "### Solution 2 :"
   ]
  },
  {
   "cell_type": "markdown",
   "metadata": {
    "heading_collapsed": true
   },
   "source": [
    "## Question 3 :\n",
    "\n",
    "List all the actors who acted in a film before 1970 and in a film after 1990. \n",
    "(That is: < 1970 and > 1990.)"
   ]
  },
  {
   "cell_type": "code",
   "execution_count": null,
   "metadata": {
    "hidden": true,
    "scrolled": true
   },
   "outputs": [],
   "source": []
  },
  {
   "cell_type": "markdown",
   "metadata": {
    "hidden": true
   },
   "source": [
    "### Solution 3 :"
   ]
  },
  {
   "cell_type": "code",
   "execution_count": null,
   "metadata": {
    "hidden": true
   },
   "outputs": [],
   "source": [
    "\n",
    "sql_query3= \"\"\"\n",
    "SELECT DISTINCT TRIM(Name) FROM Person WHERE PID IN (\n",
    "SELECT DISTINCT TRIM(PID) FROM M_Cast WHERE MID IN (\n",
    "SELECT TRIM(MID) FROM Movie WHERE year<1970 )\n",
    "INTERSECT \n",
    "SELECT DISTINCT TRIM(PID) FROM M_Cast WHERE MID IN (\n",
    "SELECT TRIM(MID) FROM Movie WHERE year>1990 )\n",
    ")\n",
    "\"\"\"\n",
    "for row in cursor.execute(sql_query3):\n",
    "    print(row)"
   ]
  },
  {
   "cell_type": "markdown",
   "metadata": {
    "heading_collapsed": true
   },
   "source": [
    "## Question 4 :\n",
    "\n",
    "List all directors who directed 10 movies or more, in descending order of the number of movies they directed. Return the `directors' names` and the `number of movies each of them directed`."
   ]
  },
  {
   "cell_type": "markdown",
   "metadata": {
    "hidden": true
   },
   "source": [
    "### Solution 4 :"
   ]
  },
  {
   "cell_type": "code",
   "execution_count": null,
   "metadata": {
    "hidden": true
   },
   "outputs": [],
   "source": [
    "sql_query4 = \"\"\"\n",
    "SELECT DISTINCT TRIM(P.Name), MC.M_Count FROM Person P JOIN (\n",
    "SELECT TRIM(PID) As PID,COUNT(MID) AS M_Count FROM M_Director \n",
    "GROUP BY PID HAVING COUNT(MID)>=10 ) AS MC ON MC.PID = P.PID\n",
    "ORDER BY MC.M_Count DESC\n",
    "\"\"\"\n",
    "for row in cursor.execute(sql_query4):\n",
    "    print(row)"
   ]
  },
  {
   "cell_type": "markdown",
   "metadata": {
    "heading_collapsed": true
   },
   "source": [
    "## Question 5 :\n",
    "\n",
    "a. For each year, count the number of movies in that year that had only female actors. we will do this by negation method, that is to find all movies where there is any male actor and exclude those movie Id's. We'll then group by year\n",
    "\n",
    "\n",
    "b. Now include a small change: report for each year the percentage of movies in that year with only female actors, and the total number of movies made that year. For example, one answer will be: 1990 31.81 13522 meaning that in 1990 there were 13,522 movies, and 31.81% had only female actors. You do not need to round your answer."
   ]
  },
  {
   "cell_type": "markdown",
   "metadata": {
    "heading_collapsed": true,
    "hidden": true
   },
   "source": [
    "### Solution 5 a "
   ]
  },
  {
   "cell_type": "code",
   "execution_count": null,
   "metadata": {
    "hidden": true
   },
   "outputs": [],
   "source": [
    "# Q5 a.\n",
    "\n",
    "sql_query5a = \"\"\"\n",
    "SELECT year,COUNT(MID) FROM Movie WHERE TRIM(MID) NOT IN (\n",
    "SELECT DISTINCT TRIM(C.MID) FROM M_Cast C JOIN Person P ON TRIM(C.PID)=TRIM(P.PID)\n",
    "WHERE TRIM(P.Gender) = 'Male') GROUP BY year;\n",
    "\"\"\"\n",
    "for row in cursor.execute(sql_query5a):\n",
    "    print(row)"
   ]
  },
  {
   "cell_type": "markdown",
   "metadata": {
    "heading_collapsed": true,
    "hidden": true
   },
   "source": [
    "### Solution 5 b"
   ]
  },
  {
   "cell_type": "code",
   "execution_count": null,
   "metadata": {
    "hidden": true
   },
   "outputs": [],
   "source": [
    "# Q5 b.\n",
    "\n",
    "sql_query5b = \"\"\"\n",
    "SELECT FMovies.year,FMovies.Count,(FMovies.Count*100.0)/COUNT(TRIM(MID)) FROM Movie M JOIN (\n",
    "SELECT year,COUNT(TRIM(MID)) as Count FROM Movie WHERE TRIM(MID) NOT IN (\n",
    "SELECT DISTINCT TRIM(C.MID) FROM M_Cast C JOIN Person P ON TRIM(C.PID)=TRIM(P.PID)\n",
    "WHERE TRIM(P.Gender) = 'Male') GROUP BY year  ) AS FMovies ON M.year=FMovies.year\n",
    "GROUP BY FMovies.year \n",
    "\"\"\"\n",
    "for row in cursor.execute(sql_query5b):\n",
    "    print(row)"
   ]
  },
  {
   "cell_type": "markdown",
   "metadata": {
    "heading_collapsed": true
   },
   "source": [
    "## Question 6 :\n",
    "\n",
    "Find the film(s) with the largest cast. Return the `movie title` and the `size of the cast`. By \"cast size\" we mean the number of distinct actors that played in that movie: if an actor played multiple roles, or if it simply occurs multiple times in casts, we still count her/him only once."
   ]
  },
  {
   "cell_type": "markdown",
   "metadata": {
    "heading_collapsed": true,
    "hidden": true
   },
   "source": [
    "### Solution 6 :"
   ]
  },
  {
   "cell_type": "code",
   "execution_count": null,
   "metadata": {
    "hidden": true
   },
   "outputs": [],
   "source": [
    "\n",
    "sql_query6 = \"\"\"\n",
    "SELECT title,COUNT(DISTINCT PID) AS Ncast FROM Movie M JOIN M_Cast C ON \n",
    "TRIM(M.MID)=TRIM(C.MID)\n",
    "GROUP BY M.MID HAVING Ncast = ( SELECT MAX(NC.PCount) FROM \n",
    "                       (SELECT COUNT(DISTINCT PID) AS PCount \n",
    "                        FROM M_Cast GROUP BY MID) NC)\n",
    "\"\"\"\n",
    "for row in cursor.execute(sql_query6):\n",
    "    print(row)"
   ]
  },
  {
   "cell_type": "markdown",
   "metadata": {
    "heading_collapsed": true
   },
   "source": [
    "## Question 7 :\n",
    "\n",
    "A decade is a sequence of 10 consecutive years. For example, say in your database you have movie information starting from 1965. Then the first decade is 1965,1966, ..., 1974; the second one is 1967, 1968, ..., 1976 and so on. Find the decade D with the largest number of films and the total number of films in D. In our data the year ranges from 1931 - 2018 Given any year we can find the decade by the formula: `decade = year - (year%10)`"
   ]
  },
  {
   "cell_type": "markdown",
   "metadata": {
    "hidden": true
   },
   "source": [
    "### Solution 7 :"
   ]
  },
  {
   "cell_type": "code",
   "execution_count": null,
   "metadata": {
    "hidden": true
   },
   "outputs": [],
   "source": [
    "\n",
    "sql_query7 = \"\"\"\n",
    "SELECT year-year%10 As Decade, COUNT(DISTINCT MID) as NumM\n",
    "FROM Movie\n",
    "WHERE LENGTH(year)=4 \n",
    "GROUP BY Decade\n",
    "ORDER BY NumM DESC LIMIT 1\n",
    "\"\"\"\n",
    "for row in cursor.execute(sql_query7):\n",
    "    print(row)"
   ]
  },
  {
   "cell_type": "markdown",
   "metadata": {
    "heading_collapsed": true
   },
   "source": [
    "## Question 8 :\n",
    "\n",
    "Find the actors that were never unemployed for more than 3 years at a stretch. (Assume that the actors remain unemployed between two consecutive movies)."
   ]
  },
  {
   "cell_type": "markdown",
   "metadata": {
    "hidden": true
   },
   "source": [
    "### Solution 8 :"
   ]
  },
  {
   "cell_type": "code",
   "execution_count": null,
   "metadata": {
    "hidden": true,
    "scrolled": true
   },
   "outputs": [],
   "source": [
    "\n",
    "sql_query8 = \"\"\"\n",
    "WITH Movie_Year AS (\n",
    "    SELECT DISTINCT TRIM(MC.PID) AS PID, TRIM(M.Year) AS YEAR, \n",
    "    ROW_NUMBER() OVER (PARTITION BY TRIM(MC.PID) ORDER BY Year) Row_Num \n",
    "    FROM Movie M JOIN M_Cast MC ON TRIM(M.MID)=TRIM(MC.MID) \n",
    "     )\n",
    "\n",
    "SELECT DISTINCT Name FROM Person WHERE PID NOT IN (\n",
    "SELECT DISTINCT M1.PID FROM Movie_Year M1 JOIN Movie_Year M2 \n",
    "ON M1.PID=M2.PID AND M1.Row_Num+1=M2.Row_Num\n",
    "WHERE M2.Year-M1.Year >= 3  )\n",
    "\"\"\"\n",
    "for row in cursor.execute(sql_query8):\n",
    "    print(row)"
   ]
  },
  {
   "cell_type": "markdown",
   "metadata": {
    "heading_collapsed": true
   },
   "source": [
    "## Question 9 :\n",
    "\n",
    "Find all the actors that made more movies with Yash Chopra than any other director. For this we create a temporary table with data as Cast, Favourite Director, and Num of movies made together. Then we filter this table for Director Yash Chopra and print the actors"
   ]
  },
  {
   "cell_type": "markdown",
   "metadata": {
    "heading_collapsed": true,
    "hidden": true
   },
   "source": [
    "### solution 9 :"
   ]
  },
  {
   "cell_type": "code",
   "execution_count": null,
   "metadata": {
    "hidden": true,
    "scrolled": true
   },
   "outputs": [],
   "source": [
    "\n",
    "sql_query9 = \"\"\"\n",
    "WITH Cast_Fav_Dir AS (\n",
    "SELECT CID, DID, Num_Movies,\n",
    "ROW_NUMBER() OVER( PARTITION BY CID ORDER BY Num_Movies DESC) Row_Num FROM (\n",
    "SELECT TRIM(C.PID) AS CID,TRIM(D.PID) AS DID,COUNT(DISTINCT TRIM(C.MID)) AS Num_Movies \n",
    "FROM M_Cast C JOIN M_Director D ON TRIM(C.MID)=TRIM(D.MID)\n",
    "GROUP BY TRIM(C.PID),TRIM(D.PID)) AS TEMP     )\n",
    "\n",
    "SELECT DISTINCT TRIM(Name) FROM Person WHERE PID IN (\n",
    "SELECT DISTINCT CID FROM Cast_Fav_Dir AS FD WHERE Row_Num = 1\n",
    "AND DID IN (SELECT DISTINCT TRIM(PID) FROM Person WHERE NAME LIKE '%YASH%CHOPRA%' ))\n",
    "\"\"\"\n",
    "\n",
    "for row in cursor.execute(sql_querytest):\n",
    "    print(row)"
   ]
  },
  {
   "cell_type": "markdown",
   "metadata": {
    "heading_collapsed": true
   },
   "source": [
    "## Question 10 \n",
    "\n",
    "The Shahrukh number of an actor is the length of the shortest path between the actor and Shahrukh Khan in the \"co-acting\" graph. That is, Shahrukh Khan has Shahrukh number 0; all actors who acted in the same film as Shahrukh have Shahrukh number 1; all actors who acted in the same film as some actor with Shahrukh number 1 have Shahrukh number 2, etc. Return all actors whose Shahrukh number is 2."
   ]
  },
  {
   "cell_type": "markdown",
   "metadata": {
    "heading_collapsed": true,
    "hidden": true
   },
   "source": [
    "### Solution 10"
   ]
  },
  {
   "cell_type": "code",
   "execution_count": null,
   "metadata": {
    "hidden": true,
    "scrolled": true
   },
   "outputs": [],
   "source": [
    "# For this we find SRK number 0+1+2 and remove SRK number 0+1\n",
    "sql_query10 = \"\"\"\n",
    "SELECT DISTINCT TRIM(Name) FROM Person WHERE PID IN (\n",
    "SELECT DISTINCT TRIM(PID) AS PID FROM M_Cast WHERE TRIM(MID) IN (\n",
    "SELECT DISTINCT TRIM(MID) FROM M_Cast WHERE TRIM(PID) IN (\n",
    "SELECT DISTINCT TRIM(PID) FROM M_Cast WHERE TRIM(MID) IN ( \n",
    "SELECT DISTINCT TRIM(MID) FROM M_Cast WHERE TRIM(PID) = (\n",
    "SELECT TRIM(PID) FROM Person WHERE Name LIKE '%Shah Rukh Khan%')))) \n",
    "EXCEPT \n",
    "SELECT DISTINCT TRIM(PID) FROM M_Cast WHERE TRIM(MID) IN ( \n",
    "SELECT DISTINCT TRIM(MID) FROM M_Cast WHERE TRIM(PID) = (\n",
    "SELECT TRIM(PID) FROM Person WHERE Name LIKE '%Shah Rukh Khan%')) )\n",
    "\"\"\"\n",
    "for row in cursor.execute(sql_query10):\n",
    "    print(row)"
   ]
  }
 ],
 "metadata": {
  "kernelspec": {
   "display_name": "Python 3 (ipykernel)",
   "language": "python",
   "name": "python3"
  },
  "language_info": {
   "codemirror_mode": {
    "name": "ipython",
    "version": 3
   },
   "file_extension": ".py",
   "mimetype": "text/x-python",
   "name": "python",
   "nbconvert_exporter": "python",
   "pygments_lexer": "ipython3",
   "version": "3.9.13"
  }
 },
 "nbformat": 4,
 "nbformat_minor": 2
}
