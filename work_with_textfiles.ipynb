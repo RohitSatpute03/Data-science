{
 "cells": [
  {
   "cell_type": "markdown",
   "metadata": {},
   "source": [
    "Current working directory"
   ]
  },
  {
   "cell_type": "code",
   "execution_count": 1,
   "metadata": {},
   "outputs": [
    {
     "data": {
      "text/plain": [
       "'/Users/rohitsatpute/Documents/Prepinsta Final/Data science/working with files'"
      ]
     },
     "execution_count": 1,
     "metadata": {},
     "output_type": "execute_result"
    }
   ],
   "source": [
    "#import library \n",
    "\n",
    "import os\n",
    "os.getcwd()"
   ]
  },
  {
   "cell_type": "markdown",
   "metadata": {},
   "source": [
    "open() function"
   ]
  },
  {
   "cell_type": "code",
   "execution_count": 2,
   "metadata": {},
   "outputs": [],
   "source": [
    "f = open('AI Lab 2.txt')"
   ]
  },
  {
   "cell_type": "markdown",
   "metadata": {},
   "source": [
    "Read() function"
   ]
  },
  {
   "cell_type": "code",
   "execution_count": 3,
   "metadata": {},
   "outputs": [
    {
     "data": {
      "text/plain": [
       "'\\ufeffName:Rohit Satpute\\nEnrollment no. BT21GCS039\\n\\n\\nclass Pathfinder:\\n    def __init__(self, terrain_span, stamina_reserve, resupply_station, objective_location):\\n        self.terrain_span = terrain_span\\n        self.stamina_reserve = stamina_reserve\\n        self.resupply_station = resupply_station\\n        self.objective_location = objective_location\\n        self.tracked_regions = set()\\n        self.current_position = (0, 0)\\n        self.stamina_level = stamina_reserve\\n\\n\\n    def is_accessible_region(self, x, y):\\n        return 0 <= x < self.terrain_span and 0 <= y < self.terrain_span\\n\\n\\n    def investigate_territory(self, x, y):\\n        if self.stamina_level > 0 and (x, y) not in self.tracked_regions:\\n            self.stamina_level -= 1\\n            self.tracked_regions.add((x, y))\\n            self.current_position = (x, y)\\n            print(f\"Charting territory {self.current_position}\")\\n\\n\\n            if self.current_position == self.objective_location:\\n                print(\"Objective acquired!\")\\n                return True\\n            return False\\n        return False\\n\\n\\n    def execute_movement(self, heading):\\n        x, y = self.current_position\\n        if heading == \\'N\\' and self.is_accessible_region(x, y - 1):\\n            return self.investigate_territory(x, y - 1)\\n        elif heading == \\'S\\' and self.is_accessible_region(x, y + 1):\\n            return self.investigate_territory(x, y + 1)\\n        elif heading == \\'E\\' and self.is_accessible_region(x + 1, y):\\n            return self.investigate_territory(x + 1, y)\\n        elif heading == \\'W\\' and self.is_accessible_region(x - 1, y):\\n            return self.investigate_territory(x - 1, y)\\n        return False\\n\\n\\n    def replenish_stamina(self):\\n        self.stamina_level = self.stamina_reserve\\n        print(f\"Recharging at {self.current_position}\")\\n\\n\\n    def embark_on_quest(self):\\n        if self.investigate_territory(*self.resupply_station):\\n            self.replenish_stamina()\\n\\n\\n        journey_log = []\\n        while True:\\n            if self.current_position == self.objective_location:\\n                break\\n\\n\\n            directions = [\\'N\\', \\'S\\', \\'E\\', \\'W\\']\\n            territory_scouted = False\\n\\n\\n            for direction in directions:\\n                if self.execute_movement(direction):\\n                    journey_log.append(direction)\\n                    territory_scouted = True\\n                    break\\n\\n\\n            if not territory_scouted:\\n                if not journey_log:\\n                    break  # No more moves possible\\n                previous_direction = journey_log.pop()\\n                self.execute_movement(self.reverse_course(previous_direction))\\n\\n\\n        print(f\"Total duration: {len(self.tracked_regions)} territories charted\")\\n\\n\\n    def reverse_course(self, direction):\\n        opposites = {\\'N\\': \\'S\\', \\'S\\': \\'N\\', \\'E\\': \\'W\\', \\'W\\': \\'E\\'}\\n        return opposites[direction]\\n\\n\\n# Example usage:\\nterrain_span = 5\\nstamina_reserve = 24\\nresupply_station = (2, 3)\\nobjective_location = (4, 4)\\n\\n\\nexplorer = Pathfinder(terrain_span, stamina_reserve, resupply_station, objective_location)\\nexplorer.embark_on_quest()'"
      ]
     },
     "execution_count": 3,
     "metadata": {},
     "output_type": "execute_result"
    }
   ],
   "source": [
    "text = f.read()\n",
    "text"
   ]
  },
  {
   "cell_type": "markdown",
   "metadata": {},
   "source": [
    "Close() function\n"
   ]
  },
  {
   "cell_type": "code",
   "execution_count": 4,
   "metadata": {},
   "outputs": [
    {
     "name": "stdout",
     "output_type": "stream",
     "text": [
      "['\\ufeffName:Rohit Satpute\\n', 'Enrollment no. BT21GCS039\\n', '\\n', '\\n', 'class Pathfinder:\\n', '    def __init__(self, terrain_span, stamina_reserve, resupply_station, objective_location):\\n', '        self.terrain_span = terrain_span\\n', '        self.stamina_reserve = stamina_reserve\\n', '        self.resupply_station = resupply_station\\n', '        self.objective_location = objective_location\\n', '        self.tracked_regions = set()\\n', '        self.current_position = (0, 0)\\n', '        self.stamina_level = stamina_reserve\\n', '\\n', '\\n', '    def is_accessible_region(self, x, y):\\n', '        return 0 <= x < self.terrain_span and 0 <= y < self.terrain_span\\n', '\\n', '\\n', '    def investigate_territory(self, x, y):\\n', '        if self.stamina_level > 0 and (x, y) not in self.tracked_regions:\\n', '            self.stamina_level -= 1\\n', '            self.tracked_regions.add((x, y))\\n', '            self.current_position = (x, y)\\n', '            print(f\"Charting territory {self.current_position}\")\\n', '\\n', '\\n', '            if self.current_position == self.objective_location:\\n', '                print(\"Objective acquired!\")\\n', '                return True\\n', '            return False\\n', '        return False\\n', '\\n', '\\n', '    def execute_movement(self, heading):\\n', '        x, y = self.current_position\\n', \"        if heading == 'N' and self.is_accessible_region(x, y - 1):\\n\", '            return self.investigate_territory(x, y - 1)\\n', \"        elif heading == 'S' and self.is_accessible_region(x, y + 1):\\n\", '            return self.investigate_territory(x, y + 1)\\n', \"        elif heading == 'E' and self.is_accessible_region(x + 1, y):\\n\", '            return self.investigate_territory(x + 1, y)\\n', \"        elif heading == 'W' and self.is_accessible_region(x - 1, y):\\n\", '            return self.investigate_territory(x - 1, y)\\n', '        return False\\n', '\\n', '\\n', '    def replenish_stamina(self):\\n', '        self.stamina_level = self.stamina_reserve\\n', '        print(f\"Recharging at {self.current_position}\")\\n', '\\n', '\\n', '    def embark_on_quest(self):\\n', '        if self.investigate_territory(*self.resupply_station):\\n', '            self.replenish_stamina()\\n', '\\n', '\\n', '        journey_log = []\\n', '        while True:\\n', '            if self.current_position == self.objective_location:\\n', '                break\\n', '\\n', '\\n', \"            directions = ['N', 'S', 'E', 'W']\\n\", '            territory_scouted = False\\n', '\\n', '\\n', '            for direction in directions:\\n', '                if self.execute_movement(direction):\\n', '                    journey_log.append(direction)\\n', '                    territory_scouted = True\\n', '                    break\\n', '\\n', '\\n', '            if not territory_scouted:\\n', '                if not journey_log:\\n', '                    break  # No more moves possible\\n', '                previous_direction = journey_log.pop()\\n', '                self.execute_movement(self.reverse_course(previous_direction))\\n', '\\n', '\\n', '        print(f\"Total duration: {len(self.tracked_regions)} territories charted\")\\n', '\\n', '\\n', '    def reverse_course(self, direction):\\n', \"        opposites = {'N': 'S', 'S': 'N', 'E': 'W', 'W': 'E'}\\n\", '        return opposites[direction]\\n', '\\n', '\\n', '# Example usage:\\n', 'terrain_span = 5\\n', 'stamina_reserve = 24\\n', 'resupply_station = (2, 3)\\n', 'objective_location = (4, 4)\\n', '\\n', '\\n', 'explorer = Pathfinder(terrain_span, stamina_reserve, resupply_station, objective_location)\\n', 'explorer.embark_on_quest()']\n"
     ]
    }
   ],
   "source": [
    "f = open('AI Lab 2.txt')\n",
    "text = f.readlines()\n",
    "print(text)\n",
    "f.close()"
   ]
  },
  {
   "cell_type": "code",
   "execution_count": 5,
   "metadata": {},
   "outputs": [
    {
     "name": "stdout",
     "output_type": "stream",
     "text": [
      "Name:Rohit Satpute\n",
      "Enrollment no. BT21GCS039\n",
      "\n",
      "\n",
      "class Pathfinder:\n",
      "    def __init__(self, terrain_span, stamina_reserve, resupply_station, objective_location):\n",
      "        self.terrain_span = terrain_span\n",
      "        self.stamina_reserve = stamina_reserve\n",
      "        self.resupply_station = resupply_station\n",
      "        self.objective_location = objective_location\n",
      "        self.tracked_regions = set()\n",
      "        self.current_position = (0, 0)\n",
      "        self.stamina_level = stamina_reserve\n",
      "\n",
      "\n",
      "    def is_accessible_region(self, x, y):\n",
      "        return 0 <= x < self.terrain_span and 0 <= y < self.terrain_span\n",
      "\n",
      "\n",
      "    def investigate_territory(self, x, y):\n",
      "        if self.stamina_level > 0 and (x, y) not in self.tracked_regions:\n",
      "            self.stamina_level -= 1\n",
      "            self.tracked_regions.add((x, y))\n",
      "            self.current_position = (x, y)\n",
      "            print(f\"Charting territory {self.current_position}\")\n",
      "\n",
      "\n",
      "            if self.current_position == self.objective_location:\n",
      "                print(\"Objective acquired!\")\n",
      "                return True\n",
      "            return False\n",
      "        return False\n",
      "\n",
      "\n",
      "    def execute_movement(self, heading):\n",
      "        x, y = self.current_position\n",
      "        if heading == 'N' and self.is_accessible_region(x, y - 1):\n",
      "            return self.investigate_territory(x, y - 1)\n",
      "        elif heading == 'S' and self.is_accessible_region(x, y + 1):\n",
      "            return self.investigate_territory(x, y + 1)\n",
      "        elif heading == 'E' and self.is_accessible_region(x + 1, y):\n",
      "            return self.investigate_territory(x + 1, y)\n",
      "        elif heading == 'W' and self.is_accessible_region(x - 1, y):\n",
      "            return self.investigate_territory(x - 1, y)\n",
      "        return False\n",
      "\n",
      "\n",
      "    def replenish_stamina(self):\n",
      "        self.stamina_level = self.stamina_reserve\n",
      "        print(f\"Recharging at {self.current_position}\")\n",
      "\n",
      "\n",
      "    def embark_on_quest(self):\n",
      "        if self.investigate_territory(*self.resupply_station):\n",
      "            self.replenish_stamina()\n",
      "\n",
      "\n",
      "        journey_log = []\n",
      "        while True:\n",
      "            if self.current_position == self.objective_location:\n",
      "                break\n",
      "\n",
      "\n",
      "            directions = ['N', 'S', 'E', 'W']\n",
      "            territory_scouted = False\n",
      "\n",
      "\n",
      "            for direction in directions:\n",
      "                if self.execute_movement(direction):\n",
      "                    journey_log.append(direction)\n",
      "                    territory_scouted = True\n",
      "                    break\n",
      "\n",
      "\n",
      "            if not territory_scouted:\n",
      "                if not journey_log:\n",
      "                    break  # No more moves possible\n",
      "                previous_direction = journey_log.pop()\n",
      "                self.execute_movement(self.reverse_course(previous_direction))\n",
      "\n",
      "\n",
      "        print(f\"Total duration: {len(self.tracked_regions)} territories charted\")\n",
      "\n",
      "\n",
      "    def reverse_course(self, direction):\n",
      "        opposites = {'N': 'S', 'S': 'N', 'E': 'W', 'W': 'E'}\n",
      "        return opposites[direction]\n",
      "\n",
      "\n",
      "# Example usage:\n",
      "terrain_span = 5\n",
      "stamina_reserve = 24\n",
      "resupply_station = (2, 3)\n",
      "objective_location = (4, 4)\n",
      "\n",
      "\n",
      "explorer = Pathfinder(terrain_span, stamina_reserve, resupply_station, objective_location)\n",
      "explorer.embark_on_quest()\n"
     ]
    }
   ],
   "source": [
    "#alternate method \n",
    "#This method closes the file automatically\n",
    "\n",
    "with open('AI Lab 2.txt') as reader:\n",
    "    print(reader.read())"
   ]
  },
  {
   "cell_type": "markdown",
   "metadata": {},
   "source": [
    "Write() function"
   ]
  },
  {
   "cell_type": "code",
   "execution_count": 6,
   "metadata": {},
   "outputs": [],
   "source": [
    "fw = open('sample.txt', 'w') #write mode\n",
    "fw.write('This is written by python')\n",
    "fw.close()\n",
    "\n",
    "#write mode will overwrite the existing file and start from scratch"
   ]
  },
  {
   "cell_type": "code",
   "execution_count": 8,
   "metadata": {},
   "outputs": [],
   "source": [
    "fw = open('sample.txt', 'a') # append mode\n",
    "fw.write('This is appended text')\n",
    "fw.close()\n",
    "\n",
    "# Append mode will write keep existing file and add new text at th end"
   ]
  },
  {
   "cell_type": "code",
   "execution_count": 1,
   "metadata": {},
   "outputs": [
    {
     "name": "stdout",
     "output_type": "stream",
     "text": [
      "This is written by pythonThis is append operationThis is appended text\n"
     ]
    }
   ],
   "source": [
    "f = open('sample.txt')\n",
    "text = f.read()\n",
    "print(text)\n",
    "f.close()"
   ]
  },
  {
   "cell_type": "markdown",
   "metadata": {},
   "source": [
    "Deleting files\n"
   ]
  },
  {
   "cell_type": "code",
   "execution_count": 1,
   "metadata": {},
   "outputs": [
    {
     "ename": "FileNotFoundError",
     "evalue": "[Errno 2] No such file or directory: 'Sample2.txt'",
     "output_type": "error",
     "traceback": [
      "\u001b[0;31m---------------------------------------------------------------------------\u001b[0m",
      "\u001b[0;31mFileNotFoundError\u001b[0m                         Traceback (most recent call last)",
      "Cell \u001b[0;32mIn[1], line 2\u001b[0m\n\u001b[1;32m      1\u001b[0m \u001b[38;5;28;01mimport\u001b[39;00m \u001b[38;5;21;01mos\u001b[39;00m \n\u001b[0;32m----> 2\u001b[0m \u001b[43mos\u001b[49m\u001b[38;5;241;43m.\u001b[39;49m\u001b[43mremove\u001b[49m\u001b[43m(\u001b[49m\u001b[38;5;124;43m'\u001b[39;49m\u001b[38;5;124;43mSample2.txt\u001b[39;49m\u001b[38;5;124;43m'\u001b[39;49m\u001b[43m)\u001b[49m\n",
      "\u001b[0;31mFileNotFoundError\u001b[0m: [Errno 2] No such file or directory: 'Sample2.txt'"
     ]
    }
   ],
   "source": [
    "import os \n",
    "os.remove('Sample2.txt')\n",
    "\n",
    "#if file doesn't exits it will give an error"
   ]
  },
  {
   "cell_type": "code",
   "execution_count": 2,
   "metadata": {},
   "outputs": [
    {
     "name": "stdout",
     "output_type": "stream",
     "text": [
      "File does not exist\n"
     ]
    }
   ],
   "source": [
    "import os \n",
    "if os.path.exists('sample2.txt'):\n",
    "    os.remove('sample2.txt')\n",
    "else:\n",
    "    print('File does not exist')"
   ]
  }
 ],
 "metadata": {
  "kernelspec": {
   "display_name": "Python 3",
   "language": "python",
   "name": "python3"
  },
  "language_info": {
   "codemirror_mode": {
    "name": "ipython",
    "version": 3
   },
   "file_extension": ".py",
   "mimetype": "text/x-python",
   "name": "python",
   "nbconvert_exporter": "python",
   "pygments_lexer": "ipython3",
   "version": "3.11.4"
  }
 },
 "nbformat": 4,
 "nbformat_minor": 2
}
